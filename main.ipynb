{
 "cells": [
  {
   "cell_type": "markdown",
   "metadata": {},
   "source": [
    "# Votorantim - Teste para a vaga Engenheiro de Dados\n",
    "\n",
    "#### Objetivo:\n",
    "Realizar o ETL dos dados do arquivo [TESTE]hubway.sqlite.db para o banco de dados Azure SQL\n",
    "\n",
    "O Conjunto de dados possui 2 tabelas, stations e trips. Os dados de cada uma dessas tabelas sera analisado e quaisquer problemas/inconsistencias serao corrigidos.\n",
    "\n",
    "#### Primeiro passo: carregamento dos dados\n",
    "\n",
    "Os dados estão no formato sqlite, por isso, sera necessario o uso da biblioteca sqlite3 para o python3\n",
    "O ETL poderia ser inteiro feito apenas com querys em SQL, entretanto, ele sera feito com o Pandas porque o sqlite tem suporte limitado a RegEx - por exemplo REGEX_SUB\n",
    "\n",
    "ref: https://stackoverflow.com/questions/38877856/replace-a-part-of-a-string-with-regexp-in-sqlite3"
   ]
  },
  {
   "cell_type": "code",
   "execution_count": 1,
   "metadata": {},
   "outputs": [],
   "source": [
    "# sqlite3 para carregar dos dados do arquivo [TESTE]hubway.sqlite.db\n",
    "import sqlite3\n",
    "# pandas para analsies e ETL\n",
    "import pandas as pd\n",
    "# connector para - necessario para o pandas poder carregar os dados em um df\n",
    "conn = sqlite3.connect('[TESTE]hubway.sqlite.db')\n",
    "# cursor para fazer qualquer query diretamente no banco de dados\n",
    "c = conn.cursor()"
   ]
  },
  {
   "cell_type": "code",
   "execution_count": 2,
   "metadata": {},
   "outputs": [],
   "source": [
    "# Esse banco de dados foi explorado com um extensão SQLITE para o VS CODE\n",
    "# com isso foi possivel ver de quais tabelas e dados esse conjunto possui\n",
    "# sao duas tabelas, stations e trips\n",
    "# as duas serao carregadas em dataframes com uma query do tipo SELECT ALL\n",
    "stations_df = pd.read_sql_query(\"SELECT * FROM 'stations'\", conn)\n",
    "trips_df = pd.read_sql_query(\"SELECT * FROM 'trips'\", conn)"
   ]
  },
  {
   "cell_type": "markdown",
   "metadata": {},
   "source": [
    "#### Analise dos dados em stations"
   ]
  },
  {
   "cell_type": "code",
   "execution_count": 3,
   "metadata": {},
   "outputs": [
    {
     "name": "stdout",
     "output_type": "stream",
     "text": [
      "Para estacoes, no sqlite temos 142 entradas\n",
      "Para estacoes, no dataframe temos 142 entradas\n"
     ]
    }
   ],
   "source": [
    "# primeiro, melhor ter certeza de que todos os dados estao no dataframe\n",
    "print(f'Para estacoes, no sqlite temos {len(stations_df)} entradas')\n",
    "c.execute(\"SELECT count(*) FROM 'stations'\")\n",
    "print(f'Para estacoes, no dataframe temos {c.fetchone()[0]} entradas')"
   ]
  },
  {
   "cell_type": "code",
   "execution_count": 4,
   "metadata": {},
   "outputs": [
    {
     "data": {
      "text/html": [
       "<div>\n",
       "<style scoped>\n",
       "    .dataframe tbody tr th:only-of-type {\n",
       "        vertical-align: middle;\n",
       "    }\n",
       "\n",
       "    .dataframe tbody tr th {\n",
       "        vertical-align: top;\n",
       "    }\n",
       "\n",
       "    .dataframe thead th {\n",
       "        text-align: right;\n",
       "    }\n",
       "</style>\n",
       "<table border=\"1\" class=\"dataframe\">\n",
       "  <thead>\n",
       "    <tr style=\"text-align: right;\">\n",
       "      <th></th>\n",
       "      <th>id</th>\n",
       "      <th>station</th>\n",
       "      <th>municipality</th>\n",
       "      <th>lat</th>\n",
       "      <th>lng</th>\n",
       "    </tr>\n",
       "  </thead>\n",
       "  <tbody>\n",
       "    <tr>\n",
       "      <th>0</th>\n",
       "      <td>3</td>\n",
       "      <td>Colleges%%%of%%%the%%%%Fenway</td>\n",
       "      <td>Boston</td>\n",
       "      <td>42.340021</td>\n",
       "      <td>-71.100812</td>\n",
       "    </tr>\n",
       "    <tr>\n",
       "      <th>1</th>\n",
       "      <td>4</td>\n",
       "      <td>Tremont St. at Berkeley St.</td>\n",
       "      <td>Boston</td>\n",
       "      <td>42.345392</td>\n",
       "      <td>-71.069616</td>\n",
       "    </tr>\n",
       "    <tr>\n",
       "      <th>2</th>\n",
       "      <td>5</td>\n",
       "      <td>Northeastern U / North Parking Lot</td>\n",
       "      <td>Boston</td>\n",
       "      <td>42.341814</td>\n",
       "      <td>-71.090179</td>\n",
       "    </tr>\n",
       "    <tr>\n",
       "      <th>3</th>\n",
       "      <td>6</td>\n",
       "      <td>Cambridge St. at Joy St.</td>\n",
       "      <td>Boston</td>\n",
       "      <td>42.361284999999995</td>\n",
       "      <td>-71.06514</td>\n",
       "    </tr>\n",
       "    <tr>\n",
       "      <th>4</th>\n",
       "      <td>7</td>\n",
       "      <td>Fan******Pier</td>\n",
       "      <td>Boston</td>\n",
       "      <td>42.353412</td>\n",
       "      <td>-71.044624</td>\n",
       "    </tr>\n",
       "  </tbody>\n",
       "</table>\n",
       "</div>"
      ],
      "text/plain": [
       "   id                             station municipality                 lat  \\\n",
       "0   3       Colleges%%%of%%%the%%%%Fenway       Boston           42.340021   \n",
       "1   4         Tremont St. at Berkeley St.       Boston           42.345392   \n",
       "2   5  Northeastern U / North Parking Lot       Boston           42.341814   \n",
       "3   6            Cambridge St. at Joy St.       Boston  42.361284999999995   \n",
       "4   7                       Fan******Pier       Boston           42.353412   \n",
       "\n",
       "          lng  \n",
       "0  -71.100812  \n",
       "1  -71.069616  \n",
       "2  -71.090179  \n",
       "3   -71.06514  \n",
       "4  -71.044624  "
      ]
     },
     "execution_count": 4,
     "metadata": {},
     "output_type": "execute_result"
    }
   ],
   "source": [
    "# Melhor dar uma olhada nesses dados antes de continuar\n",
    "stations_df.head()"
   ]
  },
  {
   "cell_type": "markdown",
   "metadata": {},
   "source": [
    "Aqui vemos um problema nesses dados, algumas estacoes estao com caracteres especiais no lugar dos espacos, isso pode causar alguns problemas no futuro, por exemplo, talvez alguem queira fazer algum join com o nome da cidade como chave"
   ]
  },
  {
   "cell_type": "code",
   "execution_count": 5,
   "metadata": {},
   "outputs": [
    {
     "name": "stdout",
     "output_type": "stream",
     "text": [
      "Colleges%%%of%%%the%%%%Fenway\n",
      "Fan******Pier\n",
      "Buswell$$$$$$$$$$$Park\n"
     ]
    }
   ],
   "source": [
    "# algumas das estacoes com problemas nos nomes\n",
    "print(stations_df['station'][0])\n",
    "print(stations_df['station'][4])\n",
    "print(stations_df['station'][16])"
   ]
  },
  {
   "cell_type": "markdown",
   "metadata": {},
   "source": [
    "Existem diversas maneiras de resolver o problema, mas aqui isso será resolvido em 2 etapas:\n",
    "1. Com uma RegEx, substituir alguns caracteres especiais por espacos em branco\n",
    "2. Com outra RegEx, substituir, onde houver, varios espacos por apenas 1"
   ]
  },
  {
   "cell_type": "code",
   "execution_count": 6,
   "metadata": {},
   "outputs": [],
   "source": [
    "# 1 - substituir *, $ e % por espacos\n",
    "stations_df = stations_df.replace(r'[<*$%]', ' ', regex=True)"
   ]
  },
  {
   "cell_type": "code",
   "execution_count": 7,
   "metadata": {},
   "outputs": [
    {
     "name": "stdout",
     "output_type": "stream",
     "text": [
      "Colleges   of   the    Fenway\n",
      "Fan      Pier\n",
      "Buswell           Park\n"
     ]
    }
   ],
   "source": [
    "print(stations_df['station'][0])\n",
    "print(stations_df['station'][4])\n",
    "print(stations_df['station'][16])"
   ]
  },
  {
   "cell_type": "code",
   "execution_count": 8,
   "metadata": {},
   "outputs": [],
   "source": [
    "# 2 - substituir varios espacos, onde houver, por apenas 1 espaco\n",
    "import re\n",
    "# novo campo com o nome das estacoes corrigidos chama-se station_name\n",
    "stations_df['station_name'] = stations_df.apply(lambda row: re.sub(' +', ' ', row.station), axis=1)"
   ]
  },
  {
   "cell_type": "code",
   "execution_count": 9,
   "metadata": {},
   "outputs": [
    {
     "name": "stdout",
     "output_type": "stream",
     "text": [
      "Nomes de estacoes corrigidos :\n",
      "\n",
      "Colleges of the Fenway\n",
      "Fan Pier\n",
      "Buswell Park\n"
     ]
    }
   ],
   "source": [
    "print('Nomes de estacoes corrigidos :')\n",
    "print()\n",
    "print(stations_df['station_name'][0])\n",
    "print(stations_df['station_name'][4])\n",
    "print(stations_df['station_name'][16])"
   ]
  },
  {
   "cell_type": "markdown",
   "metadata": {},
   "source": [
    "Obs: Essas duas regex poderiam ser feitas de uma vez so, foram feitas separadas para deixar claro o racional do processo"
   ]
  },
  {
   "cell_type": "code",
   "execution_count": 10,
   "metadata": {},
   "outputs": [
    {
     "data": {
      "text/html": [
       "<div>\n",
       "<style scoped>\n",
       "    .dataframe tbody tr th:only-of-type {\n",
       "        vertical-align: middle;\n",
       "    }\n",
       "\n",
       "    .dataframe tbody tr th {\n",
       "        vertical-align: top;\n",
       "    }\n",
       "\n",
       "    .dataframe thead th {\n",
       "        text-align: right;\n",
       "    }\n",
       "</style>\n",
       "<table border=\"1\" class=\"dataframe\">\n",
       "  <thead>\n",
       "    <tr style=\"text-align: right;\">\n",
       "      <th></th>\n",
       "      <th>id</th>\n",
       "      <th>station</th>\n",
       "      <th>municipality</th>\n",
       "      <th>lat</th>\n",
       "      <th>lng</th>\n",
       "    </tr>\n",
       "  </thead>\n",
       "  <tbody>\n",
       "    <tr>\n",
       "      <th>0</th>\n",
       "      <td>3</td>\n",
       "      <td>Colleges   of   the    Fenway</td>\n",
       "      <td>Boston</td>\n",
       "      <td>42.340021</td>\n",
       "      <td>-71.100812</td>\n",
       "    </tr>\n",
       "    <tr>\n",
       "      <th>1</th>\n",
       "      <td>4</td>\n",
       "      <td>Tremont St. at Berkeley St.</td>\n",
       "      <td>Boston</td>\n",
       "      <td>42.345392</td>\n",
       "      <td>-71.069616</td>\n",
       "    </tr>\n",
       "    <tr>\n",
       "      <th>2</th>\n",
       "      <td>5</td>\n",
       "      <td>Northeastern U / North Parking Lot</td>\n",
       "      <td>Boston</td>\n",
       "      <td>42.341814</td>\n",
       "      <td>-71.090179</td>\n",
       "    </tr>\n",
       "    <tr>\n",
       "      <th>3</th>\n",
       "      <td>6</td>\n",
       "      <td>Cambridge St. at Joy St.</td>\n",
       "      <td>Boston</td>\n",
       "      <td>42.361284999999995</td>\n",
       "      <td>-71.06514</td>\n",
       "    </tr>\n",
       "    <tr>\n",
       "      <th>4</th>\n",
       "      <td>7</td>\n",
       "      <td>Fan      Pier</td>\n",
       "      <td>Boston</td>\n",
       "      <td>42.353412</td>\n",
       "      <td>-71.044624</td>\n",
       "    </tr>\n",
       "  </tbody>\n",
       "</table>\n",
       "</div>"
      ],
      "text/plain": [
       "   id                             station municipality                 lat  \\\n",
       "0   3       Colleges   of   the    Fenway       Boston           42.340021   \n",
       "1   4         Tremont St. at Berkeley St.       Boston           42.345392   \n",
       "2   5  Northeastern U / North Parking Lot       Boston           42.341814   \n",
       "3   6            Cambridge St. at Joy St.       Boston  42.361284999999995   \n",
       "4   7                       Fan      Pier       Boston           42.353412   \n",
       "\n",
       "          lng  \n",
       "0  -71.100812  \n",
       "1  -71.069616  \n",
       "2  -71.090179  \n",
       "3   -71.06514  \n",
       "4  -71.044624  "
      ]
     },
     "execution_count": 10,
     "metadata": {},
     "output_type": "execute_result"
    }
   ],
   "source": [
    "stations_df = stations_df.drop(columns=['station_name'])\n",
    "stations_df.head()"
   ]
  },
  {
   "cell_type": "code",
   "execution_count": 11,
   "metadata": {},
   "outputs": [],
   "source": [
    "# cria arquivo csv\n",
    "stations_df.to_csv('stations.csv')"
   ]
  },
  {
   "cell_type": "markdown",
   "metadata": {},
   "source": [
    "#### Analise dos dados em Trips"
   ]
  },
  {
   "cell_type": "code",
   "execution_count": 12,
   "metadata": {},
   "outputs": [
    {
     "name": "stdout",
     "output_type": "stream",
     "text": [
      "Para trips, no sqlite temos 1570001 entradas\n",
      "Para estacoes, no dataframe temos 1570001 entradas\n"
     ]
    }
   ],
   "source": [
    "print(f'Para trips, no sqlite temos {len(trips_df)} entradas')\n",
    "c.execute(\"SELECT count(*) FROM 'trips'\")\n",
    "print(f'Para estacoes, no dataframe temos {c.fetchone()[0]} entradas')"
   ]
  },
  {
   "cell_type": "code",
   "execution_count": 13,
   "metadata": {},
   "outputs": [
    {
     "data": {
      "text/html": [
       "<div>\n",
       "<style scoped>\n",
       "    .dataframe tbody tr th:only-of-type {\n",
       "        vertical-align: middle;\n",
       "    }\n",
       "\n",
       "    .dataframe tbody tr th {\n",
       "        vertical-align: top;\n",
       "    }\n",
       "\n",
       "    .dataframe thead th {\n",
       "        text-align: right;\n",
       "    }\n",
       "</style>\n",
       "<table border=\"1\" class=\"dataframe\">\n",
       "  <thead>\n",
       "    <tr style=\"text-align: right;\">\n",
       "      <th></th>\n",
       "      <th>id</th>\n",
       "      <th>duration</th>\n",
       "      <th>start_date</th>\n",
       "      <th>start_station</th>\n",
       "      <th>end_date</th>\n",
       "      <th>end_station</th>\n",
       "      <th>bike_number</th>\n",
       "      <th>sub_type</th>\n",
       "      <th>zip_code</th>\n",
       "      <th>birth_date</th>\n",
       "      <th>gender</th>\n",
       "    </tr>\n",
       "  </thead>\n",
       "  <tbody>\n",
       "    <tr>\n",
       "      <th>0</th>\n",
       "      <td>1</td>\n",
       "      <td>9</td>\n",
       "      <td>1311847920</td>\n",
       "      <td>23</td>\n",
       "      <td>1311847920</td>\n",
       "      <td>23</td>\n",
       "      <td>B00468</td>\n",
       "      <td>Registered</td>\n",
       "      <td>'97217</td>\n",
       "      <td>1976</td>\n",
       "      <td>Male</td>\n",
       "    </tr>\n",
       "    <tr>\n",
       "      <th>1</th>\n",
       "      <td>2</td>\n",
       "      <td>220</td>\n",
       "      <td>1311848460</td>\n",
       "      <td>23</td>\n",
       "      <td>1311848700</td>\n",
       "      <td>23</td>\n",
       "      <td>B00554</td>\n",
       "      <td>Alterar para Registered</td>\n",
       "      <td>'02215</td>\n",
       "      <td>1966</td>\n",
       "      <td>Male</td>\n",
       "    </tr>\n",
       "    <tr>\n",
       "      <th>2</th>\n",
       "      <td>3</td>\n",
       "      <td>56</td>\n",
       "      <td>1311849180</td>\n",
       "      <td>23</td>\n",
       "      <td>1311849240</td>\n",
       "      <td>23</td>\n",
       "      <td>B00456</td>\n",
       "      <td>Alterar para Registered</td>\n",
       "      <td>'02108</td>\n",
       "      <td>1943</td>\n",
       "      <td>Male</td>\n",
       "    </tr>\n",
       "    <tr>\n",
       "      <th>3</th>\n",
       "      <td>4</td>\n",
       "      <td>64</td>\n",
       "      <td>1311849300</td>\n",
       "      <td>23</td>\n",
       "      <td>1311849360</td>\n",
       "      <td>23</td>\n",
       "      <td>B00554</td>\n",
       "      <td>Registered</td>\n",
       "      <td>'02116</td>\n",
       "      <td>1981</td>\n",
       "      <td>Female</td>\n",
       "    </tr>\n",
       "    <tr>\n",
       "      <th>4</th>\n",
       "      <td>5</td>\n",
       "      <td>12</td>\n",
       "      <td>1311849420</td>\n",
       "      <td>23</td>\n",
       "      <td>1311849420</td>\n",
       "      <td>23</td>\n",
       "      <td>B00554</td>\n",
       "      <td>Registered</td>\n",
       "      <td>'97214</td>\n",
       "      <td>1983</td>\n",
       "      <td>Female</td>\n",
       "    </tr>\n",
       "  </tbody>\n",
       "</table>\n",
       "</div>"
      ],
      "text/plain": [
       "   id  duration  start_date start_station    end_date end_station bike_number  \\\n",
       "0   1         9  1311847920            23  1311847920          23      B00468   \n",
       "1   2       220  1311848460            23  1311848700          23      B00554   \n",
       "2   3        56  1311849180            23  1311849240          23      B00456   \n",
       "3   4        64  1311849300            23  1311849360          23      B00554   \n",
       "4   5        12  1311849420            23  1311849420          23      B00554   \n",
       "\n",
       "                  sub_type zip_code birth_date  gender  \n",
       "0               Registered   '97217       1976    Male  \n",
       "1  Alterar para Registered   '02215       1966    Male  \n",
       "2  Alterar para Registered   '02108       1943    Male  \n",
       "3               Registered   '02116       1981  Female  \n",
       "4               Registered   '97214       1983  Female  "
      ]
     },
     "execution_count": 13,
     "metadata": {},
     "output_type": "execute_result"
    }
   ],
   "source": [
    "trips_df.head()"
   ]
  },
  {
   "cell_type": "code",
   "execution_count": 14,
   "metadata": {},
   "outputs": [
    {
     "name": "stdout",
     "output_type": "stream",
     "text": [
      "['Male' 'Female' '' 'deletar' 'Female\\n']\n"
     ]
    }
   ],
   "source": [
    "# Primeiro vamos analisar os campo gender\n",
    "# vamos ver quais dados sao encontrados nesses campos\n",
    "print(trips_df.gender.unique())"
   ]
  },
  {
   "cell_type": "markdown",
   "metadata": {},
   "source": [
    "Esse 'deletar' esta fora do dominio e precisa ser corrigido\n",
    "temos alguams opcoes:\n",
    "1. deixar em branco \n",
    "2. substituir pelo mais comum (M,F)\n",
    "3. deletar, como o proprio nome sugere\n",
    "4. outros\n",
    "\n",
    "Essas entradas serao deletadas"
   ]
  },
  {
   "cell_type": "code",
   "execution_count": 15,
   "metadata": {},
   "outputs": [
    {
     "name": "stdout",
     "output_type": "stream",
     "text": [
      "13095 entradas serao excluidas\n"
     ]
    }
   ],
   "source": [
    "print(f\"{len(trips_df[trips_df.gender == 'deletar'])} entradas serao excluidas\")"
   ]
  },
  {
   "cell_type": "code",
   "execution_count": 16,
   "metadata": {},
   "outputs": [],
   "source": [
    "trips_df = trips_df[trips_df.gender != 'deletar']"
   ]
  },
  {
   "cell_type": "code",
   "execution_count": 17,
   "metadata": {},
   "outputs": [
    {
     "name": "stdout",
     "output_type": "stream",
     "text": [
      "['Male' 'Female' '' 'Female\\n']\n"
     ]
    }
   ],
   "source": [
    "print(trips_df.gender.unique())"
   ]
  },
  {
   "cell_type": "markdown",
   "metadata": {},
   "source": [
    "Male e Female fazem parte do dominio gender, mas Female/n e '' nao. Campos vazios podem ocorre caso esse campo nao seja obrigatorio por exemplo.\n",
    "\n",
    "Campos com Female/n precisam ser transformados em Female, isso pode ser feito de varias formas, aqui vamos usar RegEx novamente para retirar todos os '\\n' de Female"
   ]
  },
  {
   "cell_type": "code",
   "execution_count": 18,
   "metadata": {},
   "outputs": [],
   "source": [
    "trips_df = trips_df.replace(r'[\\n]', '', regex=True)"
   ]
  },
  {
   "cell_type": "code",
   "execution_count": 19,
   "metadata": {},
   "outputs": [
    {
     "name": "stdout",
     "output_type": "stream",
     "text": [
      "['Male' 'Female' '']\n"
     ]
    }
   ],
   "source": [
    "print(trips_df.gender.unique())"
   ]
  },
  {
   "cell_type": "markdown",
   "metadata": {},
   "source": [
    "Agora temos apenas Male, Female e campos em branco.\n",
    "Vamos analisar agora o campo sub_type"
   ]
  },
  {
   "cell_type": "code",
   "execution_count": 20,
   "metadata": {},
   "outputs": [
    {
     "name": "stdout",
     "output_type": "stream",
     "text": [
      "['Registered' 'Alterar para Registered' 'Casual']\n"
     ]
    }
   ],
   "source": [
    "print(trips_df.sub_type.unique())"
   ]
  },
  {
   "cell_type": "markdown",
   "metadata": {},
   "source": [
    "Os campos com 'Alterar para Registered' precisam ser transformados para 'Registered'"
   ]
  },
  {
   "cell_type": "code",
   "execution_count": 21,
   "metadata": {},
   "outputs": [],
   "source": [
    "trips_df.loc[trips_df['sub_type'] == 'Alterar para Registered', 'sub_type'] = 'Registered'"
   ]
  },
  {
   "cell_type": "code",
   "execution_count": 22,
   "metadata": {},
   "outputs": [
    {
     "name": "stdout",
     "output_type": "stream",
     "text": [
      "['Registered' 'Casual']\n"
     ]
    }
   ],
   "source": [
    "print(trips_df.sub_type.unique())"
   ]
  },
  {
   "cell_type": "markdown",
   "metadata": {},
   "source": [
    "Agora trips esta com todos os problemas encontrados corrigidos"
   ]
  },
  {
   "cell_type": "code",
   "execution_count": 23,
   "metadata": {},
   "outputs": [
    {
     "data": {
      "text/html": [
       "<div>\n",
       "<style scoped>\n",
       "    .dataframe tbody tr th:only-of-type {\n",
       "        vertical-align: middle;\n",
       "    }\n",
       "\n",
       "    .dataframe tbody tr th {\n",
       "        vertical-align: top;\n",
       "    }\n",
       "\n",
       "    .dataframe thead th {\n",
       "        text-align: right;\n",
       "    }\n",
       "</style>\n",
       "<table border=\"1\" class=\"dataframe\">\n",
       "  <thead>\n",
       "    <tr style=\"text-align: right;\">\n",
       "      <th></th>\n",
       "      <th>id</th>\n",
       "      <th>duration</th>\n",
       "      <th>start_date</th>\n",
       "      <th>start_station</th>\n",
       "      <th>end_date</th>\n",
       "      <th>end_station</th>\n",
       "      <th>bike_number</th>\n",
       "      <th>sub_type</th>\n",
       "      <th>zip_code</th>\n",
       "      <th>birth_date</th>\n",
       "      <th>gender</th>\n",
       "    </tr>\n",
       "  </thead>\n",
       "  <tbody>\n",
       "    <tr>\n",
       "      <th>0</th>\n",
       "      <td>1</td>\n",
       "      <td>9</td>\n",
       "      <td>1311847920</td>\n",
       "      <td>23</td>\n",
       "      <td>1311847920</td>\n",
       "      <td>23</td>\n",
       "      <td>B00468</td>\n",
       "      <td>Registered</td>\n",
       "      <td>'97217</td>\n",
       "      <td>1976</td>\n",
       "      <td>Male</td>\n",
       "    </tr>\n",
       "    <tr>\n",
       "      <th>1</th>\n",
       "      <td>2</td>\n",
       "      <td>220</td>\n",
       "      <td>1311848460</td>\n",
       "      <td>23</td>\n",
       "      <td>1311848700</td>\n",
       "      <td>23</td>\n",
       "      <td>B00554</td>\n",
       "      <td>Registered</td>\n",
       "      <td>'02215</td>\n",
       "      <td>1966</td>\n",
       "      <td>Male</td>\n",
       "    </tr>\n",
       "    <tr>\n",
       "      <th>2</th>\n",
       "      <td>3</td>\n",
       "      <td>56</td>\n",
       "      <td>1311849180</td>\n",
       "      <td>23</td>\n",
       "      <td>1311849240</td>\n",
       "      <td>23</td>\n",
       "      <td>B00456</td>\n",
       "      <td>Registered</td>\n",
       "      <td>'02108</td>\n",
       "      <td>1943</td>\n",
       "      <td>Male</td>\n",
       "    </tr>\n",
       "    <tr>\n",
       "      <th>3</th>\n",
       "      <td>4</td>\n",
       "      <td>64</td>\n",
       "      <td>1311849300</td>\n",
       "      <td>23</td>\n",
       "      <td>1311849360</td>\n",
       "      <td>23</td>\n",
       "      <td>B00554</td>\n",
       "      <td>Registered</td>\n",
       "      <td>'02116</td>\n",
       "      <td>1981</td>\n",
       "      <td>Female</td>\n",
       "    </tr>\n",
       "    <tr>\n",
       "      <th>4</th>\n",
       "      <td>5</td>\n",
       "      <td>12</td>\n",
       "      <td>1311849420</td>\n",
       "      <td>23</td>\n",
       "      <td>1311849420</td>\n",
       "      <td>23</td>\n",
       "      <td>B00554</td>\n",
       "      <td>Registered</td>\n",
       "      <td>'97214</td>\n",
       "      <td>1983</td>\n",
       "      <td>Female</td>\n",
       "    </tr>\n",
       "  </tbody>\n",
       "</table>\n",
       "</div>"
      ],
      "text/plain": [
       "   id  duration  start_date start_station    end_date end_station bike_number  \\\n",
       "0   1         9  1311847920            23  1311847920          23      B00468   \n",
       "1   2       220  1311848460            23  1311848700          23      B00554   \n",
       "2   3        56  1311849180            23  1311849240          23      B00456   \n",
       "3   4        64  1311849300            23  1311849360          23      B00554   \n",
       "4   5        12  1311849420            23  1311849420          23      B00554   \n",
       "\n",
       "     sub_type zip_code birth_date  gender  \n",
       "0  Registered   '97217       1976    Male  \n",
       "1  Registered   '02215       1966    Male  \n",
       "2  Registered   '02108       1943    Male  \n",
       "3  Registered   '02116       1981  Female  \n",
       "4  Registered   '97214       1983  Female  "
      ]
     },
     "execution_count": 23,
     "metadata": {},
     "output_type": "execute_result"
    }
   ],
   "source": [
    "trips_df.head()"
   ]
  },
  {
   "cell_type": "code",
   "execution_count": 24,
   "metadata": {},
   "outputs": [],
   "source": [
    "# cria arquivo csv\n",
    "trips_df.to_csv('trips.csv')"
   ]
  },
  {
   "cell_type": "markdown",
   "metadata": {},
   "source": [
    "### Merging Data\n",
    "\n",
    "para fins de analise, seria interessante ter dados da estacao e da viagem no mesmo conjunto de dados. Precisaremos dar 2 merges (joins), serao 2 left joins para adicionar os dados do destino e da origem ao conjunto de dados viagens (trips).\n",
    "Com isso seria possivel fazer analises mais interessante, por exemplo, qual municipalidade possui viagens mais longes? Viagens intermunicipais sao comuns?\n",
    "\n",
    "Para isso, vamos criar 2 dataframes diferntes (dest_station_def e org_station_def) - copias de stations -  e mudar o nome de suas colunas "
   ]
  },
  {
   "cell_type": "code",
   "execution_count": 25,
   "metadata": {},
   "outputs": [],
   "source": [
    "dest_station_df = stations_df\n",
    "dest_station_df.columns = ['dest_id', 'dest_station', 'dest_municipality', 'dest_lat', 'dest_lng']\n",
    "merged_data = trips_df.merge(dest_station_df, left_on='end_station', right_on='dest_id', how='left')"
   ]
  },
  {
   "cell_type": "code",
   "execution_count": 26,
   "metadata": {},
   "outputs": [],
   "source": [
    "org_station_df = stations_df\n",
    "org_station_df.columns = ['org_id', 'org_station', 'org_municipality', 'org_lat', 'org_lng']\n",
    "merged_data = merged_data.merge(dest_station_df, left_on='start_station', right_on='org_id', how='left')"
   ]
  },
  {
   "cell_type": "code",
   "execution_count": 27,
   "metadata": {},
   "outputs": [
    {
     "data": {
      "text/plain": [
       "0"
      ]
     },
     "execution_count": 27,
     "metadata": {},
     "output_type": "execute_result"
    }
   ],
   "source": [
    "# Para termos certeza de que o merge ocorreu de forma correta\n",
    "# merged_data deve ter a mesma quantidade de entradas que trips_df\n",
    "len(trips_df)-len(merged_data)"
   ]
  },
  {
   "cell_type": "code",
   "execution_count": 28,
   "metadata": {},
   "outputs": [
    {
     "data": {
      "text/html": [
       "<div>\n",
       "<style scoped>\n",
       "    .dataframe tbody tr th:only-of-type {\n",
       "        vertical-align: middle;\n",
       "    }\n",
       "\n",
       "    .dataframe tbody tr th {\n",
       "        vertical-align: top;\n",
       "    }\n",
       "\n",
       "    .dataframe thead th {\n",
       "        text-align: right;\n",
       "    }\n",
       "</style>\n",
       "<table border=\"1\" class=\"dataframe\">\n",
       "  <thead>\n",
       "    <tr style=\"text-align: right;\">\n",
       "      <th></th>\n",
       "      <th>id</th>\n",
       "      <th>duration</th>\n",
       "      <th>start_date</th>\n",
       "      <th>start_station</th>\n",
       "      <th>end_date</th>\n",
       "      <th>end_station</th>\n",
       "      <th>bike_number</th>\n",
       "      <th>sub_type</th>\n",
       "      <th>zip_code</th>\n",
       "      <th>birth_date</th>\n",
       "      <th>...</th>\n",
       "      <th>dest_id</th>\n",
       "      <th>dest_station</th>\n",
       "      <th>dest_municipality</th>\n",
       "      <th>dest_lat</th>\n",
       "      <th>dest_lng</th>\n",
       "      <th>org_id</th>\n",
       "      <th>org_station</th>\n",
       "      <th>org_municipality</th>\n",
       "      <th>org_lat</th>\n",
       "      <th>org_lng</th>\n",
       "    </tr>\n",
       "  </thead>\n",
       "  <tbody>\n",
       "    <tr>\n",
       "      <th>0</th>\n",
       "      <td>1</td>\n",
       "      <td>9</td>\n",
       "      <td>1311847920</td>\n",
       "      <td>23</td>\n",
       "      <td>1311847920</td>\n",
       "      <td>23</td>\n",
       "      <td>B00468</td>\n",
       "      <td>Registered</td>\n",
       "      <td>'97217</td>\n",
       "      <td>1976</td>\n",
       "      <td>...</td>\n",
       "      <td>23.0</td>\n",
       "      <td>Mayor Thomas M. Menino - Government Center</td>\n",
       "      <td>Boston</td>\n",
       "      <td>42.359677000000005</td>\n",
       "      <td>-71.059364</td>\n",
       "      <td>23.0</td>\n",
       "      <td>Mayor Thomas M. Menino - Government Center</td>\n",
       "      <td>Boston</td>\n",
       "      <td>42.359677000000005</td>\n",
       "      <td>-71.059364</td>\n",
       "    </tr>\n",
       "    <tr>\n",
       "      <th>1</th>\n",
       "      <td>2</td>\n",
       "      <td>220</td>\n",
       "      <td>1311848460</td>\n",
       "      <td>23</td>\n",
       "      <td>1311848700</td>\n",
       "      <td>23</td>\n",
       "      <td>B00554</td>\n",
       "      <td>Registered</td>\n",
       "      <td>'02215</td>\n",
       "      <td>1966</td>\n",
       "      <td>...</td>\n",
       "      <td>23.0</td>\n",
       "      <td>Mayor Thomas M. Menino - Government Center</td>\n",
       "      <td>Boston</td>\n",
       "      <td>42.359677000000005</td>\n",
       "      <td>-71.059364</td>\n",
       "      <td>23.0</td>\n",
       "      <td>Mayor Thomas M. Menino - Government Center</td>\n",
       "      <td>Boston</td>\n",
       "      <td>42.359677000000005</td>\n",
       "      <td>-71.059364</td>\n",
       "    </tr>\n",
       "    <tr>\n",
       "      <th>2</th>\n",
       "      <td>3</td>\n",
       "      <td>56</td>\n",
       "      <td>1311849180</td>\n",
       "      <td>23</td>\n",
       "      <td>1311849240</td>\n",
       "      <td>23</td>\n",
       "      <td>B00456</td>\n",
       "      <td>Registered</td>\n",
       "      <td>'02108</td>\n",
       "      <td>1943</td>\n",
       "      <td>...</td>\n",
       "      <td>23.0</td>\n",
       "      <td>Mayor Thomas M. Menino - Government Center</td>\n",
       "      <td>Boston</td>\n",
       "      <td>42.359677000000005</td>\n",
       "      <td>-71.059364</td>\n",
       "      <td>23.0</td>\n",
       "      <td>Mayor Thomas M. Menino - Government Center</td>\n",
       "      <td>Boston</td>\n",
       "      <td>42.359677000000005</td>\n",
       "      <td>-71.059364</td>\n",
       "    </tr>\n",
       "    <tr>\n",
       "      <th>3</th>\n",
       "      <td>4</td>\n",
       "      <td>64</td>\n",
       "      <td>1311849300</td>\n",
       "      <td>23</td>\n",
       "      <td>1311849360</td>\n",
       "      <td>23</td>\n",
       "      <td>B00554</td>\n",
       "      <td>Registered</td>\n",
       "      <td>'02116</td>\n",
       "      <td>1981</td>\n",
       "      <td>...</td>\n",
       "      <td>23.0</td>\n",
       "      <td>Mayor Thomas M. Menino - Government Center</td>\n",
       "      <td>Boston</td>\n",
       "      <td>42.359677000000005</td>\n",
       "      <td>-71.059364</td>\n",
       "      <td>23.0</td>\n",
       "      <td>Mayor Thomas M. Menino - Government Center</td>\n",
       "      <td>Boston</td>\n",
       "      <td>42.359677000000005</td>\n",
       "      <td>-71.059364</td>\n",
       "    </tr>\n",
       "    <tr>\n",
       "      <th>4</th>\n",
       "      <td>5</td>\n",
       "      <td>12</td>\n",
       "      <td>1311849420</td>\n",
       "      <td>23</td>\n",
       "      <td>1311849420</td>\n",
       "      <td>23</td>\n",
       "      <td>B00554</td>\n",
       "      <td>Registered</td>\n",
       "      <td>'97214</td>\n",
       "      <td>1983</td>\n",
       "      <td>...</td>\n",
       "      <td>23.0</td>\n",
       "      <td>Mayor Thomas M. Menino - Government Center</td>\n",
       "      <td>Boston</td>\n",
       "      <td>42.359677000000005</td>\n",
       "      <td>-71.059364</td>\n",
       "      <td>23.0</td>\n",
       "      <td>Mayor Thomas M. Menino - Government Center</td>\n",
       "      <td>Boston</td>\n",
       "      <td>42.359677000000005</td>\n",
       "      <td>-71.059364</td>\n",
       "    </tr>\n",
       "  </tbody>\n",
       "</table>\n",
       "<p>5 rows × 21 columns</p>\n",
       "</div>"
      ],
      "text/plain": [
       "   id  duration  start_date start_station    end_date end_station bike_number  \\\n",
       "0   1         9  1311847920            23  1311847920          23      B00468   \n",
       "1   2       220  1311848460            23  1311848700          23      B00554   \n",
       "2   3        56  1311849180            23  1311849240          23      B00456   \n",
       "3   4        64  1311849300            23  1311849360          23      B00554   \n",
       "4   5        12  1311849420            23  1311849420          23      B00554   \n",
       "\n",
       "     sub_type zip_code birth_date  ... dest_id  \\\n",
       "0  Registered   '97217       1976  ...    23.0   \n",
       "1  Registered   '02215       1966  ...    23.0   \n",
       "2  Registered   '02108       1943  ...    23.0   \n",
       "3  Registered   '02116       1981  ...    23.0   \n",
       "4  Registered   '97214       1983  ...    23.0   \n",
       "\n",
       "                                 dest_station dest_municipality  \\\n",
       "0  Mayor Thomas M. Menino - Government Center            Boston   \n",
       "1  Mayor Thomas M. Menino - Government Center            Boston   \n",
       "2  Mayor Thomas M. Menino - Government Center            Boston   \n",
       "3  Mayor Thomas M. Menino - Government Center            Boston   \n",
       "4  Mayor Thomas M. Menino - Government Center            Boston   \n",
       "\n",
       "             dest_lat    dest_lng org_id  \\\n",
       "0  42.359677000000005  -71.059364   23.0   \n",
       "1  42.359677000000005  -71.059364   23.0   \n",
       "2  42.359677000000005  -71.059364   23.0   \n",
       "3  42.359677000000005  -71.059364   23.0   \n",
       "4  42.359677000000005  -71.059364   23.0   \n",
       "\n",
       "                                  org_station org_municipality  \\\n",
       "0  Mayor Thomas M. Menino - Government Center           Boston   \n",
       "1  Mayor Thomas M. Menino - Government Center           Boston   \n",
       "2  Mayor Thomas M. Menino - Government Center           Boston   \n",
       "3  Mayor Thomas M. Menino - Government Center           Boston   \n",
       "4  Mayor Thomas M. Menino - Government Center           Boston   \n",
       "\n",
       "              org_lat     org_lng  \n",
       "0  42.359677000000005  -71.059364  \n",
       "1  42.359677000000005  -71.059364  \n",
       "2  42.359677000000005  -71.059364  \n",
       "3  42.359677000000005  -71.059364  \n",
       "4  42.359677000000005  -71.059364  \n",
       "\n",
       "[5 rows x 21 columns]"
      ]
     },
     "execution_count": 28,
     "metadata": {},
     "output_type": "execute_result"
    }
   ],
   "source": [
    "merged_data.head()"
   ]
  },
  {
   "cell_type": "code",
   "execution_count": 29,
   "metadata": {},
   "outputs": [],
   "source": [
    "merged_data.to_csv('merged_data.csv')"
   ]
  },
  {
   "cell_type": "markdown",
   "metadata": {},
   "source": [
    "Agora ficou bem mais facil responder algumas questoes, por exemplo: Qual a propocao de viagens que comecam em uma municipalidade e acabam em outra (intermunicipais)?"
   ]
  },
  {
   "cell_type": "code",
   "execution_count": 30,
   "metadata": {},
   "outputs": [
    {
     "name": "stdout",
     "output_type": "stream",
     "text": [
      "De todas as viagens, 20.0% delas são entre municipalidades\n"
     ]
    }
   ],
   "source": [
    "ratio = len(merged_data[merged_data.org_municipality != merged_data.dest_municipality])/len(merged_data)\n",
    "\n",
    "print(f'De todas as viagens, {round(ratio,2)*100}% delas são entre municipalidades')"
   ]
  }
 ],
 "metadata": {
  "kernelspec": {
   "display_name": "Python 3",
   "language": "python",
   "name": "python3"
  },
  "language_info": {
   "codemirror_mode": {
    "name": "ipython",
    "version": 3
   },
   "file_extension": ".py",
   "mimetype": "text/x-python",
   "name": "python",
   "nbconvert_exporter": "python",
   "pygments_lexer": "ipython3",
   "version": "3.7.4"
  }
 },
 "nbformat": 4,
 "nbformat_minor": 2
}
